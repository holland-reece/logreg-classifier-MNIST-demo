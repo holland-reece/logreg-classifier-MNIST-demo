{
 "cells": [
  {
   "cell_type": "markdown",
   "id": "9e9ca14a",
   "metadata": {},
   "source": [
    "# Logistic Regression with MNIST dataset\n",
    "\n",
    "#### Holland Brown\n",
    "\n",
    "#### 2022-04-21"
   ]
  },
  {
   "cell_type": "code",
   "execution_count": null,
   "id": "84a822e1",
   "metadata": {
    "vscode": {
     "languageId": "plaintext"
    }
   },
   "outputs": [],
   "source": [
    "# Load environment packages and import MNIST dataset\n",
    "import matplotlib.pyplot as plt\n",
    "import numpy as np\n",
    "from sklearn import metrics\n",
    "from sklearn.linear_model import LogisticRegression from sklearn.datasets import load_digits\n",
    "from sklearn.model_selection import train_test_split from sklearn.metrics import roc_auc_score"
   ]
  },
  {
   "cell_type": "markdown",
   "id": "3ed0e873",
   "metadata": {},
   "source": [
    "### Split datasets into testing and training datasets"
   ]
  },
  {
   "cell_type": "code",
   "execution_count": null,
   "id": "209481a1",
   "metadata": {
    "vscode": {
     "languageId": "plaintext"
    }
   },
   "outputs": [],
   "source": [
    "# Load dataset as data, target\n",
    "X, y = load_digits(return_X_y = True) y = y.ravel()\n",
    "for i in range(0,len(y)): # change labels of non-ones to 0 --> now a binary classification problem if y[i] != 1:\n",
    "y[i] = 0 print(y[:30], \"\\n\")\n",
    "# Split data into 50% train and 50% test subsets\n",
    "X_train, X_test, y_train, y_test = train_test_split( X, y, test_size=0.5, shuffle=False\n",
    ")\n",
    "print(X_train.data.shape) print(y_train.data.shape) print(X_test.data.shape) print(y_test.data.shape)"
   ]
  },
  {
   "cell_type": "markdown",
   "id": "8b4e1793",
   "metadata": {},
   "source": [
    "### Create classifier"
   ]
  },
  {
   "cell_type": "code",
   "execution_count": null,
   "id": "dc29853d",
   "metadata": {
    "vscode": {
     "languageId": "plaintext"
    }
   },
   "outputs": [],
   "source": [
    "# Create a classifier: logistic regression\n",
    "f = LogisticRegression(solver='liblinear', max_iter=600) f.fit(X_train, y_train)\n",
    "prob = f.predict_proba(X_test) pred = f.predict(X_test)\n",
    "print(prob[:20,:])\n",
    "print(pred[:20])\n",
    "#returns probabilities that each im belongs to class 0 or 1\n",
    "#returns decision of class 0 or 1 for each im\n",
    "print(pred.shape)\n",
    "print(\"model score: %.4f\" % f.score(X_test, y_test)) #returns mean accuracy"
   ]
  },
  {
   "cell_type": "markdown",
   "id": "b8c2015d",
   "metadata": {},
   "source": [
    "### Use ROC curve to test best threshold for λ"
   ]
  },
  {
   "cell_type": "code",
   "execution_count": null,
   "id": "6b66ad9b",
   "metadata": {
    "vscode": {
     "languageId": "plaintext"
    }
   },
   "outputs": [],
   "source": [
    "fpr, tpr, thresholds = metrics.roc_curve(y_test, pred, pos_label=1)\n",
    "print(f\"False Positive Rates (Specificity): {fpr}\\nTrue Positive Rates (Sensitivity): {tpr}\\nThresholds: {thresholds}\\n\")\n",
    "print(f\"Area Under ROC Curve: {roc_auc_score(y_test, prob[:,1], multi_class='ovr')}\\n\") print(f\"The optimal threshold is λ = 1.\")"
   ]
  },
  {
   "cell_type": "markdown",
   "id": "227e7b45",
   "metadata": {},
   "source": [
    "### Use confusion matrix to assess performance on test set"
   ]
  },
  {
   "cell_type": "code",
   "execution_count": null,
   "id": "ae280435",
   "metadata": {
    "vscode": {
     "languageId": "plaintext"
    }
   },
   "outputs": [],
   "source": [
    "cm = metrics.confusion_matrix(y_test, pred)\n",
    "plt.figure(figsize=(5,5))\n",
    "plt.imshow(cm, interpolation='nearest', cmap='BuGn') plt.title('Confusion matrix', size = 15)\n",
    "plt.colorbar()\n",
    "tick_marks = np.arange(2)\n",
    "plt.xticks(tick_marks, [\"0\", \"1\"], rotation=45, size = 10) plt.yticks(tick_marks, [\"0\", \"1\"], size = 10) plt.tight_layout()\n",
    "plt.ylabel('Actual label', size = 15) plt.xlabel('Predicted label', size = 15)\n",
    "width, height = cm.shape\n",
    "for x in range(width):\n",
    "for y in range(height):\n",
    "plt.annotate(str(cm[x][y]), xy=(y, x), horizontalalignment='center',\n",
    "verticalalignment='center') plt.savefig('mth4330_ml_hw4_confusionmat_v3.png')"
   ]
  }
 ],
 "metadata": {
  "language_info": {
   "name": "python"
  }
 },
 "nbformat": 4,
 "nbformat_minor": 5
}
